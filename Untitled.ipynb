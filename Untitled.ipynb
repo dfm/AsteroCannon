{
 "cells": [
  {
   "cell_type": "code",
   "execution_count": 1,
   "metadata": {
    "collapsed": true
   },
   "outputs": [],
   "source": [
    "%matplotlib inline"
   ]
  },
  {
   "cell_type": "code",
   "execution_count": 48,
   "metadata": {
    "collapsed": true
   },
   "outputs": [],
   "source": [
    "import os\n",
    "import h5py\n",
    "import pickle\n",
    "import numpy as np\n",
    "import pandas as pd\n",
    "import matplotlib.pyplot as pl\n",
    "from multiprocessing import Pool\n",
    "from scipy.signal import resample, fftconvolve\n",
    "\n",
    "from tqdm import tqdm\n",
    "\n",
    "from peerless.catalogs import KICatalog"
   ]
  },
  {
   "cell_type": "code",
   "execution_count": 3,
   "metadata": {
    "collapsed": true
   },
   "outputs": [],
   "source": [
    "from acannon.acannon import AsteroCannon"
   ]
  },
  {
   "cell_type": "code",
   "execution_count": 4,
   "metadata": {
    "collapsed": true
   },
   "outputs": [],
   "source": []
  },
  {
   "cell_type": "code",
   "execution_count": null,
   "metadata": {
    "collapsed": false
   },
   "outputs": [
    {
     "name": "stderr",
     "output_type": "stream",
     "text": [
      "  1%|          | 139/12374 [00:06<09:04, 22.48it/s]"
     ]
    }
   ],
   "source": [
    "df = pd.read_csv(\"stello_2013.dat\", delim_whitespace=True,\n",
    "                 names=[\"kicid\", \"nu_max\", \"delta_nu\"])\n",
    "kic = KICatalog().df\n",
    "\n",
    "joined = pd.merge(df, kic, left_on=\"kicid\", right_on=\"kepid\")\n",
    "\n",
    "OUTPUT_DIR = \"spectra\"\n",
    "\n",
    "n = 500\n",
    "sig2 = n**2\n",
    "conv = np.exp(-0.5 * np.arange(-2*n, 2*n)**2 / sig2) / np.sqrt(2*np.pi*sig2)\n",
    "\n",
    "# inds = np.random.randint(len(joined), size=3000)\n",
    "# rows = joined.iloc[inds]\n",
    "rows = joined\n",
    "\n",
    "P0 = None\n",
    "labels = np.empty((len(rows), 3))\n",
    "for i, (_, row) in tqdm(enumerate(rows.iterrows()), total=len(rows)):\n",
    "    fn = os.path.join(OUTPUT_DIR, \"{0}.h5\".format(int(row.kicid)))\n",
    "#     if not os.path.exists(fn):\n",
    "#         continue\n",
    "    \n",
    "    # Load the power spectrum.\n",
    "    with h5py.File(fn, \"r\") as f:\n",
    "        power = f[\"power\"][\"power\"][::2]\n",
    "    p = np.log(fftconvolve(power, conv, mode=\"valid\")[::100])\n",
    "    if P0 is None:\n",
    "        P0 = np.empty((len(rows), len(p)))\n",
    "    P0[i] = p\n",
    "    \n",
    "    # Load the labels\n",
    "    teff = row.teff\n",
    "    feh = row.feh\n",
    "    logg = row.logg\n",
    "    labels[i] = (logg, teff, feh)\n",
    "\n",
    "with open(\"dataset.pkl\", \"wb\") as f:\n",
    "    pickle.dump((P0, labels), f, -1)"
   ]
  },
  {
   "cell_type": "code",
   "execution_count": 6,
   "metadata": {
    "collapsed": true
   },
   "outputs": [],
   "source": []
  },
  {
   "cell_type": "code",
   "execution_count": 7,
   "metadata": {
    "collapsed": false
   },
   "outputs": [],
   "source": [
    "with open(\"dataset.pkl\", \"rb\") as f:\n",
    "    P0, labels = pickle.load(f)"
   ]
  },
  {
   "cell_type": "code",
   "execution_count": null,
   "metadata": {
    "collapsed": true
   },
   "outputs": [],
   "source": []
  },
  {
   "cell_type": "code",
   "execution_count": null,
   "metadata": {
    "collapsed": true
   },
   "outputs": [],
   "source": []
  },
  {
   "cell_type": "code",
   "execution_count": null,
   "metadata": {
    "collapsed": true
   },
   "outputs": [],
   "source": []
  },
  {
   "cell_type": "code",
   "execution_count": null,
   "metadata": {
    "collapsed": true
   },
   "outputs": [],
   "source": []
  },
  {
   "cell_type": "code",
   "execution_count": 8,
   "metadata": {
    "collapsed": true
   },
   "outputs": [],
   "source": [
    "model = AsteroCannon(order=[15, 4, 3])"
   ]
  },
  {
   "cell_type": "code",
   "execution_count": 27,
   "metadata": {
    "collapsed": true
   },
   "outputs": [],
   "source": [
    "model.fit(labels[:1000], P0[:1000])"
   ]
  },
  {
   "cell_type": "code",
   "execution_count": 44,
   "metadata": {
    "collapsed": false
   },
   "outputs": [],
   "source": [
    "ind = 1580\n",
    "y = P0[ind]\n",
    "new_label = model.infer_one(y)\n",
    "label = labels[ind]"
   ]
  },
  {
   "cell_type": "code",
   "execution_count": 45,
   "metadata": {
    "collapsed": false
   },
   "outputs": [
    {
     "data": {
      "text/plain": [
       "(array([  2.37929104e+00,   5.01069872e+03,   6.51811107e-02]),\n",
       " array([  2.33600000e+00,   4.96900000e+03,   7.00000000e-02]))"
      ]
     },
     "execution_count": 45,
     "metadata": {},
     "output_type": "execute_result"
    }
   ],
   "source": [
    "new_label, label"
   ]
  },
  {
   "cell_type": "code",
   "execution_count": 46,
   "metadata": {
    "collapsed": true
   },
   "outputs": [],
   "source": [
    "mu_1 = model.predict(label)[0]\n",
    "mu_2 = model.predict(new_label)[0]"
   ]
  },
  {
   "cell_type": "code",
   "execution_count": 47,
   "metadata": {
    "collapsed": false
   },
   "outputs": [
    {
     "data": {
      "image/png": "[encoded data removed]",
      "text/plain": [
       "<matplotlib.figure.Figure at 0x7fabae40c550>"
      ]
     },
     "metadata": {},
     "output_type": "display_data"
    }
   ],
   "source": [
    "pl.plot(y - np.median(y), \"k\")\n",
    "pl.plot(mu_1, \"r\");\n",
    "pl.plot(mu_2, \"g\");"
   ]
  },
  {
   "cell_type": "code",
   "execution_count": null,
   "metadata": {
    "collapsed": true
   },
   "outputs": [],
   "source": []
  },
  {
   "cell_type": "code",
   "execution_count": null,
   "metadata": {
    "collapsed": true
   },
   "outputs": [],
   "source": []
  }
 ],
 "metadata": {
  "kernelspec": {
   "display_name": "Python 3",
   "language": "python",
   "name": "python3"
  },
  "language_info": {
   "codemirror_mode": {
    "name": "ipython",
    "version": 3
   },
   "file_extension": ".py",
   "mimetype": "text/x-python",
   "name": "python",
   "nbconvert_exporter": "python",
   "pygments_lexer": "ipython3",
   "version": "3.4.4"
  }
 },
 "nbformat": 4,
 "nbformat_minor": 0
}
