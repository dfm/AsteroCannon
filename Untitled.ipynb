{
 "cells": [
  {
   "cell_type": "code",
   "execution_count": 1,
   "metadata": {
    "collapsed": true
   },
   "outputs": [],
   "source": [
    "%matplotlib inline"
   ]
  },
  {
   "cell_type": "code",
   "execution_count": 325,
   "metadata": {
    "collapsed": true
   },
   "outputs": [],
   "source": [
    "import os\n",
    "import h5py\n",
    "import numpy as np\n",
    "import pandas as pd\n",
    "import matplotlib.pyplot as pl\n",
    "from scipy.optimize import minimize\n",
    "from scipy.linalg import cho_factor, cho_solve\n",
    "from scipy.ndimage.filters import gaussian_filter1d\n",
    "from scipy.signal import resample, fftconvolve\n",
    "\n",
    "from peerless.catalogs import KICatalog"
   ]
  },
  {
   "cell_type": "code",
   "execution_count": 5,
   "metadata": {
    "collapsed": true
   },
   "outputs": [],
   "source": [
    "df = pd.read_csv(\"stello_2013.dat\", delim_whitespace=True,\n",
    "                 names=[\"kicid\", \"nu_max\", \"delta_nu\"])\n",
    "kic = KICatalog().df"
   ]
  },
  {
   "cell_type": "code",
   "execution_count": 18,
   "metadata": {
    "collapsed": false
   },
   "outputs": [],
   "source": [
    "joined = pd.merge(df, kic, left_on=\"kicid\", right_on=\"kepid\")"
   ]
  },
  {
   "cell_type": "code",
   "execution_count": 31,
   "metadata": {
    "collapsed": false
   },
   "outputs": [
    {
     "data": {
      "text/plain": [
       "Index(['kicid', 'nu_max', 'delta_nu', 'kepid', 'tm_designation', 'teff',\n",
       "       'teff_err1', 'teff_err2', 'logg', 'logg_err1', 'logg_err2', 'feh',\n",
       "       'feh_err1', 'feh_err2', 'mass', 'mass_err1', 'mass_err2', 'radius',\n",
       "       'radius_err1', 'radius_err2', 'dens', 'dens_err1', 'dens_err2',\n",
       "       'prov_sec', 'kepmag', 'nconfp', 'nkoi', 'ntce', 'datalink_dvr',\n",
       "       'st_delivname', 'st_vet_date_str', 'ra', 'ra_str', 'dec', 'dec_str',\n",
       "       'st_quarters', 'teff_prov', 'logg_prov', 'feh_prov', 'jmag', 'jmag_err',\n",
       "       'hmag', 'hmag_err', 'kmag', 'kmag_err', 'dutycycle', 'dataspan',\n",
       "       'mesthres01p5', 'mesthres02p0', 'mesthres02p5', 'mesthres03p0',\n",
       "       'mesthres03p5', 'mesthres04p5', 'mesthres05p0', 'mesthres06p0',\n",
       "       'mesthres07p5', 'mesthres09p0', 'mesthres10p5', 'mesthres12p0',\n",
       "       'mesthres12p5', 'mesthres15p0', 'rrmscdpp01p5', 'rrmscdpp02p0',\n",
       "       'rrmscdpp02p5', 'rrmscdpp03p0', 'rrmscdpp03p5', 'rrmscdpp04p5',\n",
       "       'rrmscdpp05p0', 'rrmscdpp06p0', 'rrmscdpp07p5', 'rrmscdpp09p0',\n",
       "       'rrmscdpp10p5', 'rrmscdpp12p0', 'rrmscdpp12p5', 'rrmscdpp15p0'],\n",
       "      dtype='object')"
      ]
     },
     "execution_count": 31,
     "metadata": {},
     "output_type": "execute_result"
    }
   ],
   "source": [
    "joined.keys()"
   ]
  },
  {
   "cell_type": "code",
   "execution_count": 55,
   "metadata": {
    "collapsed": false
   },
   "outputs": [
    {
     "data": {
      "text/plain": [
       "[<matplotlib.lines.Line2D at 0x7f5c2ff2c940>]"
      ]
     },
     "execution_count": 55,
     "metadata": {},
     "output_type": "execute_result"
    },
    {
     "data": {
      "image/png": "[encoded data removed]",
      "text/plain": [
       "<matplotlib.figure.Figure at 0x7f5c3015fa90>"
      ]
     },
     "metadata": {},
     "output_type": "display_data"
    }
   ],
   "source": [
    "pl.plot(joined.teff, np.log(joined.dens), \".k\")"
   ]
  },
  {
   "cell_type": "code",
   "execution_count": null,
   "metadata": {
    "collapsed": true
   },
   "outputs": [],
   "source": []
  },
  {
   "cell_type": "code",
   "execution_count": 751,
   "metadata": {
    "collapsed": false
   },
   "outputs": [],
   "source": [
    "OUTPUT_DIR = \"spectra\"\n",
    "\n",
    "n = 500\n",
    "sig2 = n**2\n",
    "conv = np.exp(-0.5 * np.arange(-2*n, 2*n)**2 / sig2) / np.sqrt(2*np.pi*sig2)\n",
    "\n",
    "P0 = []\n",
    "labels = []\n",
    "for _, row in joined.iloc[:2000].iterrows():\n",
    "    fn = os.path.join(OUTPUT_DIR, \"{0}.h5\".format(int(row.kicid)))\n",
    "    if not os.path.exists(fn):\n",
    "        continue\n",
    "    \n",
    "    with h5py.File(fn, \"r\") as f:\n",
    "        power = f[\"power\"][\"power\"][::2]\n",
    "    P0.append(np.log(fftconvolve(power, conv, mode=\"valid\")[::100]))\n",
    "    # P0.append(np.log(gaussian_filter1d(power, 500)))\n",
    "        \n",
    "    teff = row.teff\n",
    "    feh = row.feh\n",
    "    logg = row.logg\n",
    "    dens = row.dens\n",
    "    \n",
    "    labels.append((teff, logg, np.log(dens)))\n",
    "    \n",
    "P0 = np.array(P0)\n",
    "labels = np.array(labels)"
   ]
  },
  {
   "cell_type": "code",
   "execution_count": 752,
   "metadata": {
    "collapsed": false
   },
   "outputs": [],
   "source": [
    "labels = labels[:, :2]"
   ]
  },
  {
   "cell_type": "code",
   "execution_count": 753,
   "metadata": {
    "collapsed": false
   },
   "outputs": [
    {
     "data": {
      "text/plain": [
       "(2000, 2481)"
      ]
     },
     "execution_count": 753,
     "metadata": {},
     "output_type": "execute_result"
    }
   ],
   "source": [
    "P0.shape"
   ]
  },
  {
   "cell_type": "code",
   "execution_count": 755,
   "metadata": {
    "collapsed": false
   },
   "outputs": [
    {
     "data": {
      "image/png": "[encoded data removed]",
      "text/plain": [
       "<matplotlib.figure.Figure at 0x7f5a4f516f98>"
      ]
     },
     "metadata": {},
     "output_type": "display_data"
    }
   ],
   "source": [
    "n = 1\n",
    "i = 1000\n",
    "pl.plot(labels[:, n], P0[:, i], \".k\");"
   ]
  },
  {
   "cell_type": "code",
   "execution_count": 756,
   "metadata": {
    "collapsed": false
   },
   "outputs": [
    {
     "data": {
      "text/plain": [
       "True"
      ]
     },
     "execution_count": 756,
     "metadata": {},
     "output_type": "execute_result"
    }
   ],
   "source": [
    "np.all(np.isfinite(labels[:, :2]))"
   ]
  },
  {
   "cell_type": "code",
   "execution_count": null,
   "metadata": {
    "collapsed": true
   },
   "outputs": [],
   "source": []
  },
  {
   "cell_type": "code",
   "execution_count": 757,
   "metadata": {
    "collapsed": false
   },
   "outputs": [],
   "source": [
    "# fac = labels[:, 2] / (labels[:, 3]**2 * np.sqrt(labels[:, 0]))\n",
    "# n = P0.shape[1] * fac / fac.max()\n",
    "# n = (P0.shape[1] / n).astype(int)\n",
    "# print(n)\n",
    "\n",
    "# P = []\n",
    "# for i, d in enumerate(n):\n",
    "#     P.append(P0[i][::d])\n",
    "# n = min(map(len, P))\n",
    "# for i, p in enumerate(P):\n",
    "#     P[i] = gaussian_filter1d(p[:n], 100)\n",
    "# P = np.array(np.log(P))"
   ]
  },
  {
   "cell_type": "code",
   "execution_count": 758,
   "metadata": {
    "collapsed": true
   },
   "outputs": [],
   "source": [
    "P = np.array(P0)"
   ]
  },
  {
   "cell_type": "code",
   "execution_count": 759,
   "metadata": {
    "collapsed": true
   },
   "outputs": [],
   "source": [
    "P -= np.median(P, axis=1)[:, None]\n",
    "# P /= np.std(P, axis=1)[:, None]"
   ]
  },
  {
   "cell_type": "code",
   "execution_count": 760,
   "metadata": {
    "collapsed": false
   },
   "outputs": [],
   "source": [
    "# import fbpca\n",
    "# _, _, basis = fbpca.pca(P, k=10, raw=True)"
   ]
  },
  {
   "cell_type": "code",
   "execution_count": 761,
   "metadata": {
    "collapsed": false
   },
   "outputs": [],
   "source": [
    "# m = np.dot(basis.T, np.linalg.solve(np.dot(basis, basis.T), np.dot(basis, P.T))).T\n",
    "# P -= m"
   ]
  },
  {
   "cell_type": "code",
   "execution_count": 762,
   "metadata": {
    "collapsed": false
   },
   "outputs": [],
   "source": [
    "# labels.shape, P.shape"
   ]
  },
  {
   "cell_type": "code",
   "execution_count": 763,
   "metadata": {
    "collapsed": false
   },
   "outputs": [
    {
     "data": {
      "text/plain": [
       "(2000, 2)"
      ]
     },
     "execution_count": 763,
     "metadata": {},
     "output_type": "execute_result"
    }
   ],
   "source": [
    "labels.shape"
   ]
  },
  {
   "cell_type": "code",
   "execution_count": 764,
   "metadata": {
    "collapsed": false
   },
   "outputs": [],
   "source": [
    "x = (labels - np.mean(labels, axis=0)[None, :]) / np.std(labels, axis=0)[None, :]\n",
    "x2 = (x[:, :, None] * x[:, None, :]).reshape((len(x), -1))\n",
    "x3 = (x[:, :, None, None] * x[:, None, None, :] * x[:, None, :, None]).reshape((len(x), -1))\n",
    "x4 = (x[:, :, None, None, None] * x[:, None, :, None, None] * x[:, None, None, :, None] * x[:, None, None, None, :]).reshape((len(x), -1))\n",
    "x5 = (x[:, :, None, None, None, None] * x[:, None, :, None, None, None] * x[:, None, None, :, None, None] * x[:, None, None, None, None, :] * x[:, None, None, None, :, None]).reshape((len(x), -1))\n",
    "\n",
    "A = np.concatenate((x, x2, x3, x4, x5, np.ones((len(labels), 1))), axis=1)\n",
    "ATA = np.dot(A.T, A)\n",
    "ATA[np.diag_indices_from(ATA)] += 1e-2\n",
    "factor = cho_factor(ATA)\n",
    "\n",
    "alpha = np.dot(A.T, P)\n",
    "weights = cho_solve(factor, alpha)"
   ]
  },
  {
   "cell_type": "code",
   "execution_count": 765,
   "metadata": {
    "collapsed": false
   },
   "outputs": [
    {
     "data": {
      "text/plain": [
       "(63, 2481)"
      ]
     },
     "execution_count": 765,
     "metadata": {},
     "output_type": "execute_result"
    }
   ],
   "source": [
    "weights.shape"
   ]
  },
  {
   "cell_type": "code",
   "execution_count": 766,
   "metadata": {
    "collapsed": true
   },
   "outputs": [],
   "source": [
    "P_pred = np.dot(A, weights)"
   ]
  },
  {
   "cell_type": "code",
   "execution_count": 780,
   "metadata": {
    "collapsed": false
   },
   "outputs": [],
   "source": [
    "import george\n",
    "from george import kernels\n",
    "\n",
    "i = 500  # 78742 + 1000\n",
    "y = P[:, i]\n",
    "x = labels\n",
    "\n",
    "kernel = np.var(y) * kernels.Matern32Kernel([100.0, 0.1], ndim=2)\n",
    "# kernel = amp * kernels.Matern32Kernel([100.0, 100.0], ndim=2)\n",
    "gp = george.GP(kernel,\n",
    "               white_noise=2*np.log(np.median(np.abs(np.diff(y)))),\n",
    "               fit_white_noise=True,\n",
    "               mean=np.mean(y), fit_mean=True)\n",
    "gp.compute(x)"
   ]
  },
  {
   "cell_type": "code",
   "execution_count": 781,
   "metadata": {
    "collapsed": false
   },
   "outputs": [
    {
     "data": {
      "text/plain": [
       "-1669.6875870091062"
      ]
     },
     "execution_count": 781,
     "metadata": {},
     "output_type": "execute_result"
    }
   ],
   "source": [
    "gp.lnlikelihood(y)"
   ]
  },
  {
   "cell_type": "code",
   "execution_count": 782,
   "metadata": {
    "collapsed": false
   },
   "outputs": [
    {
     "data": {
      "text/plain": [
       "      fun: 1041.3547807738505\n",
       " hess_inv: <5x5 LbfgsInvHessProduct with dtype=float64>\n",
       "      jac: array([  3.37432943e-05,  -1.50628202e-03,  -1.53594289e-05,\n",
       "         3.87719236e-05,   6.43946646e-05])\n",
       "  message: b'CONVERGENCE: REL_REDUCTION_OF_F_<=_FACTR*EPSMCH'\n",
       "     nfev: 24\n",
       "      nit: 23\n",
       "   status: 0\n",
       "  success: True\n",
       "        x: array([  0.77854688,  -1.85642882,  -1.52425144,  14.13054452,  -2.93172552])"
      ]
     },
     "execution_count": 782,
     "metadata": {},
     "output_type": "execute_result"
    }
   ],
   "source": [
    "r = minimize(gp.nll, gp.get_vector(), jac=gp.grad_nll, args=(y, ),\n",
    "             bounds=[(None, None), (None, None), (None, None), (None, None), (-5, None)])\n",
    "gp.set_vector(r.x)\n",
    "r"
   ]
  },
  {
   "cell_type": "code",
   "execution_count": 783,
   "metadata": {
    "collapsed": false
   },
   "outputs": [
    {
     "data": {
      "text/plain": [
       "array([  2.17830463e+00,   1.56229560e-01,   2.17784020e-01,\n",
       "         1.37030585e+06,   5.33049798e-02])"
      ]
     },
     "execution_count": 783,
     "metadata": {},
     "output_type": "execute_result"
    }
   ],
   "source": [
    "np.exp(r.x)"
   ]
  },
  {
   "cell_type": "code",
   "execution_count": 784,
   "metadata": {
    "collapsed": false
   },
   "outputs": [
    {
     "data": {
      "text/plain": [
       "-1041.3547807738505"
      ]
     },
     "execution_count": 784,
     "metadata": {},
     "output_type": "execute_result"
    }
   ],
   "source": [
    "gp.lnlikelihood(y)"
   ]
  },
  {
   "cell_type": "code",
   "execution_count": 786,
   "metadata": {
    "collapsed": false
   },
   "outputs": [
    {
     "data": {
      "text/plain": [
       "[<matplotlib.lines.Line2D at 0x7f5a4d56e2e8>]"
      ]
     },
     "execution_count": 786,
     "metadata": {},
     "output_type": "execute_result"
    },
    {
     "data": {
      "image/png": "[encoded data removed]",
      "text/plain": [
       "<matplotlib.figure.Figure at 0x7f5a4d5962e8>"
      ]
     },
     "metadata": {},
     "output_type": "display_data"
    }
   ],
   "source": [
    "n = 1\n",
    "pl.plot(labels[:, n], y, \".k\")\n",
    "pl.plot(labels[:, n], P_pred[:, i], \".r\")\n",
    "pl.plot(labels[:, n], gp.predict(y, x, return_cov=False), \".g\")"
   ]
  },
  {
   "cell_type": "code",
   "execution_count": 684,
   "metadata": {
    "collapsed": false
   },
   "outputs": [
    {
     "name": "stdout",
     "output_type": "stream",
     "text": [
      "(1, 2)\n"
     ]
    },
    {
     "ename": "ValueError",
     "evalue": "shapes (1,15) and (63,248001) not aligned: 15 (dim 1) != 63 (dim 0)",
     "output_type": "error",
     "traceback": [
      "\u001b[1;31m---------------------------------------------------------------------------\u001b[0m",
      "\u001b[1;31mValueError\u001b[0m                                Traceback (most recent call last)",
      "\u001b[1;32m<ipython-input-684-163da900afb0>\u001b[0m in \u001b[0;36m<module>\u001b[1;34m()\u001b[0m\n\u001b[0;32m      9\u001b[0m \u001b[0mn\u001b[0m \u001b[1;33m=\u001b[0m \u001b[1;36m100\u001b[0m\u001b[1;33m\u001b[0m\u001b[0m\n\u001b[0;32m     10\u001b[0m \u001b[0my\u001b[0m \u001b[1;33m=\u001b[0m \u001b[0mP\u001b[0m\u001b[1;33m[\u001b[0m\u001b[0mn\u001b[0m\u001b[1;33m]\u001b[0m\u001b[1;33m\u001b[0m\u001b[0m\n\u001b[1;32m---> 11\u001b[1;33m \u001b[0mm\u001b[0m \u001b[1;33m=\u001b[0m \u001b[0mmodel\u001b[0m\u001b[1;33m(\u001b[0m\u001b[0mlabels\u001b[0m\u001b[1;33m[\u001b[0m\u001b[0mn\u001b[0m\u001b[1;33m]\u001b[0m\u001b[1;33m)\u001b[0m\u001b[1;33m\u001b[0m\u001b[0m\n\u001b[0m\u001b[0;32m     12\u001b[0m \u001b[0mprint\u001b[0m\u001b[1;33m(\u001b[0m\u001b[0mm\u001b[0m\u001b[1;33m.\u001b[0m\u001b[0mshape\u001b[0m\u001b[1;33m)\u001b[0m\u001b[1;33m\u001b[0m\u001b[0m\n\u001b[0;32m     13\u001b[0m \u001b[1;33m\u001b[0m\u001b[0m\n",
      "\u001b[1;32m<ipython-input-684-163da900afb0>\u001b[0m in \u001b[0;36mmodel\u001b[1;34m(x)\u001b[0m\n\u001b[0;32m      5\u001b[0m     \u001b[0mx3\u001b[0m \u001b[1;33m=\u001b[0m \u001b[1;33m(\u001b[0m\u001b[0mx\u001b[0m\u001b[1;33m[\u001b[0m\u001b[1;33m:\u001b[0m\u001b[1;33m,\u001b[0m \u001b[1;33m:\u001b[0m\u001b[1;33m,\u001b[0m \u001b[1;32mNone\u001b[0m\u001b[1;33m,\u001b[0m \u001b[1;32mNone\u001b[0m\u001b[1;33m]\u001b[0m \u001b[1;33m*\u001b[0m \u001b[0mx\u001b[0m\u001b[1;33m[\u001b[0m\u001b[1;33m:\u001b[0m\u001b[1;33m,\u001b[0m \u001b[1;32mNone\u001b[0m\u001b[1;33m,\u001b[0m \u001b[1;32mNone\u001b[0m\u001b[1;33m,\u001b[0m \u001b[1;33m:\u001b[0m\u001b[1;33m]\u001b[0m \u001b[1;33m*\u001b[0m \u001b[0mx\u001b[0m\u001b[1;33m[\u001b[0m\u001b[1;33m:\u001b[0m\u001b[1;33m,\u001b[0m \u001b[1;32mNone\u001b[0m\u001b[1;33m,\u001b[0m \u001b[1;33m:\u001b[0m\u001b[1;33m,\u001b[0m \u001b[1;32mNone\u001b[0m\u001b[1;33m]\u001b[0m\u001b[1;33m)\u001b[0m\u001b[1;33m.\u001b[0m\u001b[0mreshape\u001b[0m\u001b[1;33m(\u001b[0m\u001b[1;33m(\u001b[0m\u001b[0mlen\u001b[0m\u001b[1;33m(\u001b[0m\u001b[0mx\u001b[0m\u001b[1;33m)\u001b[0m\u001b[1;33m,\u001b[0m \u001b[1;33m-\u001b[0m\u001b[1;36m1\u001b[0m\u001b[1;33m)\u001b[0m\u001b[1;33m)\u001b[0m\u001b[1;33m\u001b[0m\u001b[0m\n\u001b[0;32m      6\u001b[0m     \u001b[0mA\u001b[0m \u001b[1;33m=\u001b[0m \u001b[0mnp\u001b[0m\u001b[1;33m.\u001b[0m\u001b[0mconcatenate\u001b[0m\u001b[1;33m(\u001b[0m\u001b[1;33m(\u001b[0m\u001b[0mx\u001b[0m\u001b[1;33m,\u001b[0m \u001b[0mx2\u001b[0m\u001b[1;33m,\u001b[0m \u001b[0mx3\u001b[0m\u001b[1;33m,\u001b[0m \u001b[0mnp\u001b[0m\u001b[1;33m.\u001b[0m\u001b[0mones\u001b[0m\u001b[1;33m(\u001b[0m\u001b[1;33m(\u001b[0m\u001b[0mlen\u001b[0m\u001b[1;33m(\u001b[0m\u001b[0mx\u001b[0m\u001b[1;33m)\u001b[0m\u001b[1;33m,\u001b[0m \u001b[1;36m1\u001b[0m\u001b[1;33m)\u001b[0m\u001b[1;33m)\u001b[0m\u001b[1;33m)\u001b[0m\u001b[1;33m,\u001b[0m \u001b[0maxis\u001b[0m\u001b[1;33m=\u001b[0m\u001b[1;36m1\u001b[0m\u001b[1;33m)\u001b[0m\u001b[1;33m\u001b[0m\u001b[0m\n\u001b[1;32m----> 7\u001b[1;33m     \u001b[1;32mreturn\u001b[0m \u001b[0mnp\u001b[0m\u001b[1;33m.\u001b[0m\u001b[0mdot\u001b[0m\u001b[1;33m(\u001b[0m\u001b[0mA\u001b[0m\u001b[1;33m,\u001b[0m \u001b[0mweights\u001b[0m\u001b[1;33m)\u001b[0m\u001b[1;33m\u001b[0m\u001b[0m\n\u001b[0m\u001b[0;32m      8\u001b[0m \u001b[1;33m\u001b[0m\u001b[0m\n\u001b[0;32m      9\u001b[0m \u001b[0mn\u001b[0m \u001b[1;33m=\u001b[0m \u001b[1;36m100\u001b[0m\u001b[1;33m\u001b[0m\u001b[0m\n",
      "\u001b[1;31mValueError\u001b[0m: shapes (1,15) and (63,248001) not aligned: 15 (dim 1) != 63 (dim 0)"
     ]
    }
   ],
   "source": [
    "# def model(x):\n",
    "#     x = np.atleast_2d(x)\n",
    "#     print(x.shape)\n",
    "#     x2 = (x[:, :, None] * x[:, None, :]).reshape((len(x), -1))\n",
    "#     x3 = (x[:, :, None, None] * x[:, None, None, :] * x[:, None, :, None]).reshape((len(x), -1))\n",
    "#     A = np.concatenate((x, x2, x3, np.ones((len(x), 1))), axis=1)\n",
    "#     return np.dot(A, weights)\n",
    "\n",
    "# n = 100\n",
    "# y = P[n]\n",
    "# m = model(labels[n])\n",
    "# print(m.shape)\n",
    "\n",
    "# pl.plot(y)\n",
    "# pl.plot(P_pred[n], alpha=0.7)\n",
    "# # pl.plot(np.log(P0[n]));\n",
    "# # pl.xlim(0, 100)"
   ]
  },
  {
   "cell_type": "code",
   "execution_count": 249,
   "metadata": {
    "collapsed": false
   },
   "outputs": [
    {
     "data": {
      "text/plain": [
       "78742"
      ]
     },
     "execution_count": 249,
     "metadata": {},
     "output_type": "execute_result"
    }
   ],
   "source": [
    "50000 + np.argmax(y[:50000])"
   ]
  },
  {
   "cell_type": "code",
   "execution_count": null,
   "metadata": {
    "collapsed": true
   },
   "outputs": [],
   "source": []
  },
  {
   "cell_type": "code",
   "execution_count": null,
   "metadata": {
    "collapsed": true
   },
   "outputs": [],
   "source": []
  }
 ],
 "metadata": {
  "kernelspec": {
   "display_name": "Python 3",
   "language": "python",
   "name": "python3"
  },
  "language_info": {
   "codemirror_mode": {
    "name": "ipython",
    "version": 3
   },
   "file_extension": ".py",
   "mimetype": "text/x-python",
   "name": "python",
   "nbconvert_exporter": "python",
   "pygments_lexer": "ipython3",
   "version": "3.4.4"
  }
 },
 "nbformat": 4,
 "nbformat_minor": 0
}
