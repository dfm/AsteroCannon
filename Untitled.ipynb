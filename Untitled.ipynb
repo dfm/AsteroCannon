{
 "cells": [
  {
   "cell_type": "code",
   "execution_count": 1,
   "metadata": {
    "collapsed": true
   },
   "outputs": [],
   "source": [
    "%matplotlib inline"
   ]
  },
  {
   "cell_type": "code",
   "execution_count": 2,
   "metadata": {
    "collapsed": true
   },
   "outputs": [],
   "source": [
    "import os\n",
    "import h5py\n",
    "import numpy as np\n",
    "import pandas as pd\n",
    "import matplotlib.pyplot as pl\n",
    "from scipy.linalg import cho_factor, cho_solve\n",
    "from scipy.ndimage.filters import gaussian_filter1d\n",
    "from scipy.signal import resample "
   ]
  },
  {
   "cell_type": "code",
   "execution_count": 3,
   "metadata": {
    "collapsed": false
   },
   "outputs": [],
   "source": [
    "df = pd.read_csv(\"chaplin_params.tsv\", comment=\"#\", sep=r\"|\", header=0, skiprows=[103, 104],\n",
    "                 na_values=[\" \"*i for i in range(50)])\n",
    "kicids = list(set(np.array(df.KIC)))"
   ]
  },
  {
   "cell_type": "code",
   "execution_count": 5,
   "metadata": {
    "collapsed": false
   },
   "outputs": [],
   "source": [
    "OUTPUT_DIR = \"spectra\"\n",
    "\n",
    "P0 = []\n",
    "labels = []\n",
    "for kicid in kicids:\n",
    "    rows = df[df.KIC == kicid]\n",
    "    teff = np.array([float(rows[\"T(SDSS)\"].mean()),\n",
    "                     float(rows[\"T(IRFM)\"].mean())])\n",
    "    teff = np.mean(teff[np.isfinite(teff)])\n",
    "    feh = float(rows[\"[Fe/H]\"].mean())\n",
    "    logg = float(rows[\"log(g)\"].mean())\n",
    "    mass = float(rows[\"Mass\"].mean())\n",
    "    rad = float(rows[\"Rad\"].mean())\n",
    "    age = float(rows[\"Age\"].mean())\n",
    "    \n",
    "    labels.append((teff, logg, mass, rad, age))\n",
    "\n",
    "    with h5py.File(os.path.join(OUTPUT_DIR, \"{0}.h5\".format(kicid)), \"r\") as f:\n",
    "        P0.append(f[\"power\"][\"power\"])\n",
    "    \n",
    "P0 = np.array(P0)\n",
    "labels = np.array(labels)"
   ]
  },
  {
   "cell_type": "code",
   "execution_count": 71,
   "metadata": {
    "collapsed": false
   },
   "outputs": [
    {
     "name": "stdout",
     "output_type": "stream",
     "text": [
      "[ 2  4  2  3  5  4  3  2  3  4  3  5  3  3  4  8  2  2 11  3 12  4 13  2  3\n",
      "  1  3  3  2  7  1  2  4  2  4 12  8  1  3  4  8  2  9  5  7  5  5  1  2  5\n",
      "  5  1  2 10  2  2  2  2 15  2  7  7  7  4 12  3  4  1  3  4  2  5  7  3  1\n",
      "  5  7  6  1  5  5  4  5  7  4  4  4  7  4  5  3  2  3  2  2  3  4  5  3  1\n",
      " 13  5  3  3  9  2  2  2  3  3  5  5 11  1  6  2  4  4  3  6  3  4  3  9  6\n",
      "  5  5  1  1  2  2  2  3  3  7  4  3  8  3 13  4  2  3  5  6  2  3  4  3  4\n",
      "  6 10  8  3  6  6  3  2  9  5  2  9  4  6  2  2  4  3  2  5  2  3  3  1  2\n",
      "  2  1  3  2  5  5  7  3  5 15  8  2  1  4  5  1 11  5  1  3  4  7  2  3  8\n",
      " 11  8  6  3  4 13  8  8  4 13  1  3  3  2  3  2  4  2  5  2  8  6  4  3  5\n",
      "  5  3  4  2  6  3 12  5  3  2  2  3  2  3 12  3  3  3  2 10  1  2  2  4  2\n",
      "  2 15  5  3  5  3  2  1  2  3  7  7  7  4  2  1  5  2  5  8  4  1  4  8  4\n",
      "  2  4 10  3  5  3  1  1  4  5  4  5  6  3 11  4  2  5 12  3  3  2  2  9 16\n",
      "  2  5  3 11  9 10  4  3  5  4 11 14  5  7 12  3  2  4  3  2  4  7  3  3  3\n",
      "  5  3  9 14  3 15  1  3  2  3  1 13  4  3  4  5 10  3  3  3  1  2  2  4  2\n",
      "  4  3  4  2  1  2  2  3  7  4  6  3 13  3  2 15  3  2  3  3  3 12  1  2  3\n",
      "  1  6  3  1  7  2  2  5 14  1  2  2  4  2  1  1  2  4  4  6  3  3  4  3  3\n",
      "  2  3  9 10  3  1  3  5  4  2  5 15  2  5  5  3  2  7  4  4  2  9  1  5  3\n",
      " 11  4  8  2  1  4  4  2  4  2  3  7  4 12 15  3  3  3  5  4  8  4  3  6  3\n",
      "  1  5  5  8  2  3  6  3 11  4  2  2  4  1  1  1  3  3  7  3  3  2  5  8  6\n",
      "  7  3  2  2  3  3  2  2  3  8  3  8  6  6  2  4  5  1  2  6  4  3  3  4  6\n",
      " 10  2  7  3  7 12  3  4  3  2  2  3  2  3  4  2  3  4]\n"
     ]
    }
   ],
   "source": [
    "fac = labels[:, 2] / (labels[:, 3]**2 * np.sqrt(labels[:, 0]))\n",
    "n = P0.shape[1] * fac / fac.max()\n",
    "n = (P0.shape[1] / n).astype(int)\n",
    "print(n)\n",
    "\n",
    "P = []\n",
    "for i, d in enumerate(n):\n",
    "    P.append(P0[i][::d])\n",
    "n = min(map(len, P))\n",
    "for i, p in enumerate(P):\n",
    "    P[i] = gaussian_filter1d(p[:n], 100)\n",
    "P = np.array(np.log(P))"
   ]
  },
  {
   "cell_type": "code",
   "execution_count": 73,
   "metadata": {
    "collapsed": true
   },
   "outputs": [],
   "source": [
    "P -= np.mean(P, axis=1)[:, None]"
   ]
  },
  {
   "cell_type": "code",
   "execution_count": 74,
   "metadata": {
    "collapsed": false
   },
   "outputs": [],
   "source": [
    "# import fbpca\n",
    "# _, _, basis = fbpca.pca(P, k=10, raw=True)"
   ]
  },
  {
   "cell_type": "code",
   "execution_count": 75,
   "metadata": {
    "collapsed": false
   },
   "outputs": [],
   "source": [
    "# m = np.dot(basis.T, np.linalg.solve(np.dot(basis, basis.T), np.dot(basis, P.T))).T\n",
    "# P -= m"
   ]
  },
  {
   "cell_type": "code",
   "execution_count": 76,
   "metadata": {
    "collapsed": false
   },
   "outputs": [],
   "source": [
    "# labels.shape, P.shape"
   ]
  },
  {
   "cell_type": "code",
   "execution_count": 77,
   "metadata": {
    "collapsed": false
   },
   "outputs": [],
   "source": [
    "x2 = (labels[:, :, None] * labels[:, None, :]).reshape((len(labels), -1))\n",
    "A = np.concatenate((labels, x2, np.ones((len(labels), 1))), axis=1)\n",
    "ATA = np.dot(A.T, A)\n",
    "ATA[np.diag_indices_from(ATA)] += 1e-4\n",
    "factor = cho_factor(ATA)\n",
    "\n",
    "alpha = np.dot(A.T, P)\n",
    "weights = cho_solve(factor, alpha)"
   ]
  },
  {
   "cell_type": "code",
   "execution_count": 78,
   "metadata": {
    "collapsed": false
   },
   "outputs": [
    {
     "data": {
      "text/plain": [
       "(31, 31250)"
      ]
     },
     "execution_count": 78,
     "metadata": {},
     "output_type": "execute_result"
    }
   ],
   "source": [
    "weights.shape"
   ]
  },
  {
   "cell_type": "code",
   "execution_count": 79,
   "metadata": {
    "collapsed": false
   },
   "outputs": [],
   "source": [
    "P_pred = np.dot(A, weights)"
   ]
  },
  {
   "cell_type": "code",
   "execution_count": 80,
   "metadata": {
    "collapsed": false
   },
   "outputs": [
    {
     "data": {
      "text/plain": [
       "[<matplotlib.lines.Line2D at 0x7f70d5cf1470>]"
      ]
     },
     "execution_count": 80,
     "metadata": {},
     "output_type": "execute_result"
    },
    {
     "data": {
      "image/png": "[encoded data removed]",
      "text/plain": [
       "<matplotlib.figure.Figure at 0x7f70d5cf1358>"
      ]
     },
     "metadata": {},
     "output_type": "display_data"
    }
   ],
   "source": [
    "n = 4\n",
    "i = 600\n",
    "pl.plot(labels[:, n], P[:, i], \".k\")\n",
    "pl.plot(labels[:, n], P_pred[:, i], \".g\")"
   ]
  },
  {
   "cell_type": "code",
   "execution_count": 84,
   "metadata": {
    "collapsed": false
   },
   "outputs": [
    {
     "name": "stdout",
     "output_type": "stream",
     "text": [
      "(1, 5)\n"
     ]
    },
    {
     "data": {
      "image/png": "[encoded data removed]",
      "text/plain": [
       "<matplotlib.figure.Figure at 0x7f70d5fe99e8>"
      ]
     },
     "metadata": {},
     "output_type": "display_data"
    }
   ],
   "source": [
    "def model(x):\n",
    "    x = np.atleast_2d(x)\n",
    "    print(x.shape)\n",
    "    x2 = (x[:, :, None] * x[:, None, :]).reshape((len(x), -1))\n",
    "    A = np.concatenate((x, x2, np.ones((len(x), 1))), axis=1)\n",
    "    return np.dot(A, weights)\n",
    "\n",
    "n = 100\n",
    "y = P[n]\n",
    "m = model(labels[n])\n",
    "\n",
    "pl.plot(y)\n",
    "pl.plot(m[0], alpha=0.7)\n",
    "# pl.plot(np.log(P0[n]));"
   ]
  },
  {
   "cell_type": "code",
   "execution_count": null,
   "metadata": {
    "collapsed": true
   },
   "outputs": [],
   "source": []
  },
  {
   "cell_type": "code",
   "execution_count": null,
   "metadata": {
    "collapsed": true
   },
   "outputs": [],
   "source": []
  }
 ],
 "metadata": {
  "kernelspec": {
   "display_name": "Python 3",
   "language": "python",
   "name": "python3"
  },
  "language_info": {
   "codemirror_mode": {
    "name": "ipython",
    "version": 3
   },
   "file_extension": ".py",
   "mimetype": "text/x-python",
   "name": "python",
   "nbconvert_exporter": "python",
   "pygments_lexer": "ipython3",
   "version": "3.4.3"
  }
 },
 "nbformat": 4,
 "nbformat_minor": 0
}
